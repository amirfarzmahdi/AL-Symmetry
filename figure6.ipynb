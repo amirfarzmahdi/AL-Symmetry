{
 "cells": [
  {
   "cell_type": "code",
   "execution_count": 1,
   "metadata": {},
   "outputs": [],
   "source": [
    "# plot the similarity between model and neural rdms\n",
    "# useful packages:\n",
    "import torch\n",
    "import torchvision.transforms as transforms\n",
    "from torchvision import models\n",
    "from scipy import stats\n",
    "import numpy as np\n",
    "import matplotlib as mpl\n",
    "import matplotlib.pyplot as plt\n",
    "import scipy\n",
    "import scipy.io as sio\n",
    "from scipy.stats import pearsonr\n",
    "import warnings\n",
    "warnings.filterwarnings(\"ignore\")\n",
    "import pickle\n",
    "from PIL import Image\n",
    "import random\n",
    "import matplotlib.gridspec as gridspec\n",
    "import seaborn as sns\n",
    "from mpl_toolkits.axes_grid1.inset_locator import inset_axes"
   ]
  },
  {
   "cell_type": "code",
   "execution_count": 2,
   "metadata": {},
   "outputs": [],
   "source": [
    "# settings\n",
    "nview = 5\n",
    "nexemplar = 25\n",
    "img_size = 224\n",
    "nchannel = 3\n",
    "\n",
    "# line colors\n",
    "cmap = np.divide([178,223,138],255)\n",
    "\n",
    "# font\n",
    "mpl.rcParams['font.family'] = 'Arial'\n",
    "plt.rcParams['font.size'] = 6\n",
    "plt.rcParams['axes.linewidth'] = 0.8\n",
    "\n",
    "dataset = 'fiv' # fiv or bfm\n",
    "\n",
    "file_dir = 'comparison_w_brain/'"
   ]
  },
  {
   "cell_type": "code",
   "execution_count": 3,
   "metadata": {},
   "outputs": [],
   "source": [
    "with open(f'{file_dir}neural_msvt_ns_ceiling.pkl', 'rb') as f:\n",
    "    neural_data = pickle.load(f)"
   ]
  },
  {
   "cell_type": "code",
   "execution_count": 4,
   "metadata": {},
   "outputs": [],
   "source": [
    "# load models' msvt\n",
    "model_names = ['AlexNet','EIG','VGG16','ResNet50','ConvNeXt','ViT']\n",
    "\n",
    "layer_name = [[] for i in range(len(model_names))]\n",
    "shapley_vals = [[] for i in range(len(model_names))]\n",
    "shapley_vals_mean = [[] for i in range(len(model_names))]\n",
    "shapley_vals_std = [[] for i in range(len(model_names))]\n",
    "\n",
    "model_brain_rdm_corr_mean = [[] for i in range(len(model_names))]\n",
    "model_brain_rdm_corr_std = [[] for i in range(len(model_names))]\n",
    "\n",
    "\n",
    "for i_model, name in enumerate(model_names):\n",
    "    # python\n",
    "    with open(f'{file_dir}comparison_neural_rdm_shapley_{name}_{dataset}.pkl', 'rb') as f:\n",
    "        data = pickle.load(f)\n",
    "    for i_roi in range(3):\n",
    "        layer_name[i_model] = data['name']\n",
    "        shapley_vals[i_model] = data['shapley_vals']\n",
    "        shapley_vals_mean[i_model].append(np.squeeze(np.mean(shapley_vals[i_model][i_roi],axis=2)))\n",
    "        shapley_vals_std[i_model].append(np.squeeze(np.std(shapley_vals[i_model][i_roi],axis=2)))\n",
    "\n",
    "        model_brain_rdm_corr_mean[i_model].append(np.mean(np.squeeze(np.sum(shapley_vals[i_model][i_roi],axis=3)),axis=1))\n",
    "        model_brain_rdm_corr_std[i_model].append(np.std(np.squeeze(np.sum(shapley_vals[i_model][i_roi],axis=3)),axis=1))"
   ]
  },
  {
   "cell_type": "code",
   "execution_count": null,
   "metadata": {},
   "outputs": [],
   "source": []
  }
 ],
 "metadata": {
  "kernelspec": {
   "display_name": "EIG-faces",
   "language": "python",
   "name": "python3"
  },
  "language_info": {
   "codemirror_mode": {
    "name": "ipython",
    "version": 3
   },
   "file_extension": ".py",
   "mimetype": "text/x-python",
   "name": "python",
   "nbconvert_exporter": "python",
   "pygments_lexer": "ipython3",
   "version": "3.8.17"
  },
  "orig_nbformat": 4
 },
 "nbformat": 4,
 "nbformat_minor": 2
}
