{
 "cells": [
  {
   "cell_type": "code",
   "execution_count": null,
   "metadata": {},
   "outputs": [],
   "source": [
    "# plot mirror-symmetric viewpoint tuning\n",
    "# useful packages:\n",
    "import torch\n",
    "import torchvision.transforms as transforms\n",
    "from torchvision import models\n",
    "from scipy import stats\n",
    "import numpy as np\n",
    "import matplotlib as mpl\n",
    "import matplotlib.pyplot as plt\n",
    "import scipy\n",
    "import scipy.io as sio\n",
    "from scipy.stats import pearsonr\n",
    "import warnings\n",
    "warnings.filterwarnings(\"ignore\")\n",
    "import pickle\n",
    "from PIL import Image\n",
    "import random\n",
    "import matplotlib.gridspec as gridspec\n",
    "import seaborn as sns\n",
    "from mpl_toolkits.axes_grid1.inset_locator import inset_axes"
   ]
  },
  {
   "cell_type": "code",
   "execution_count": null,
   "metadata": {},
   "outputs": [],
   "source": [
    "# settings\n",
    "nview = 5\n",
    "nexemplar = 25\n",
    "img_size = 224\n",
    "nchannel = 3\n",
    "\n",
    "# line colors\n",
    "cmap = np.divide([178,223,138],255)\n",
    "\n",
    "# font\n",
    "mpl.rcParams['font.family'] = 'Arial'\n",
    "plt.rcParams['font.size'] = 6\n",
    "plt.rcParams['axes.linewidth'] = 0.8\n",
    "\n",
    "dataset = 'fiv'\n",
    "\n",
    "file_dir = 'comparison_w_AL/'"
   ]
  },
  {
   "cell_type": "code",
   "execution_count": null,
   "metadata": {},
   "outputs": [],
   "source": [
    "with open(f'{file_dir}neural_msvt_ns_ceiling.pkl', 'rb') as f:\n",
    "    neural_data = pickle.load(f)"
   ]
  },
  {
   "cell_type": "code",
   "execution_count": null,
   "metadata": {},
   "outputs": [],
   "source": [
    "# load models' msvt\n",
    "model_names = ['AlexNet','EIG','VGG16','ResNet50','ConvNeXt','ViT']\n",
    "\n",
    "layer_name =  [[] for i in range(len(model_names))]\n",
    "mean_index = [[] for i in range(len(model_names))]\n",
    "std_index = [[] for i in range(len(model_names))]\n",
    "\n",
    "for i_model, name in enumerate(model_names):\n",
    "    # python\n",
    "    with open(f'{file_dir}comparison_neural_rdm_shapley_{name}_{dataset}.pkl', 'rb') as f:\n",
    "        data = pickle.load(f)\n",
    "\n",
    "    layer_name[i_model] = data['name']\n",
    "\n",
    "\n",
    "    mean_index[i_model] = np.mean(data['msvt'], axis=1)\n",
    "    std_index[i_model] = np.std(data['msvt'], axis=1)#/np.sqrt(nexemplar)"
   ]
  },
  {
   "cell_type": "code",
   "execution_count": null,
   "metadata": {},
   "outputs": [],
   "source": [
    "median_neural_msvt_index = np.median(neural_data['corrected_msvt'],axis=1)\n",
    "std_neural_msvt_index = np.std(neural_data['msvt'],axis=1)"
   ]
  },
  {
   "cell_type": "code",
   "execution_count": null,
   "metadata": {},
   "outputs": [],
   "source": [
    "# mean_neural_msvt_index / np.mean(neural_data['ns_ceiling'])"
   ]
  },
  {
   "cell_type": "code",
   "execution_count": null,
   "metadata": {},
   "outputs": [],
   "source": [
    "# plot the figure\n",
    "msz = 3\n",
    "lw = 1\n",
    "\n",
    "figname = 'figureS10'\n",
    "fig = plt.figure(figsize=(7,3))\n",
    "ncols = 3\n",
    "nrows = 2\n",
    "gs = gridspec.GridSpec(nrows, ncols, left=0.02, bottom=0.02, right=0.98, top=0.98, wspace=0.25, hspace=0.8, height_ratios=[1,1])\n",
    "for i, ax_ in enumerate(gs):\n",
    "\n",
    "    ax = fig.add_subplot(ax_,zorder=2)\n",
    "    \n",
    "    x_pos = np.arange(0,len(mean_index[i]))\n",
    "    y_pos = [-1, -0.5, 0, 0.5, 1]\n",
    "\n",
    "    eplot = plt.errorbar(x_pos,  mean_index[i] , std_index[i], markerfacecolor = [0.5, 0.5, 0.5],capsize=None,\n",
    "                ecolor = [0,0,0], markeredgecolor = [0,0,0], marker='o',markersize = 4,linewidth = 1, ls= '',clip_on=False,markeredgewidth=0.5)\n",
    "    \n",
    "    for b in eplot[2]:\n",
    "        b.set_clip_on(False)\n",
    "\n",
    "    ax.axhline(y=median_neural_msvt_index[0], xmin=0, xmax=1.01, color=[0.4980, 0.7882, 0.4980], alpha = 0.35, linewidth= 2, clip_on=False, label='MLMF')\n",
    "    ax.axhline(y=median_neural_msvt_index[1], xmin=0, xmax=1.01, color=[0.7451, 0.6824, 0.8314], alpha = 0.35, linewidth= 2, clip_on=False, label='AL')\n",
    "    ax.axhline(y=median_neural_msvt_index[2], xmin=0, xmax=1.01, color=[0.9922, 0.7529, 0.5255], alpha = 0.35, linewidth= 2, clip_on=False, label='AM')\n",
    "\n",
    "    # set tick params\n",
    "    plt.tick_params(length = 2, width = 0.8)\n",
    "\n",
    "    # set x axis\n",
    "    ax.set_xticks(x_pos)\n",
    "    ax.set_xticklabels(layer_name[i],\n",
    "                                rotation = 90)\n",
    "    if i == 0:\n",
    "        ax.set_ylabel(\"Mirror-symmetric\\nviewpoint tuning index\",labelpad=0.8)\n",
    "        ax.text(-0.3,median_neural_msvt_index[0]-0.05,neural_data['name'][0],color=[0.4980, 0.7882, 0.4980])\n",
    "        ax.text(-0.3,median_neural_msvt_index[1]-0.05,neural_data['name'][1],color=[0.7451, 0.6824, 0.8314])\n",
    "        ax.text(-0.3,median_neural_msvt_index[2]-0.05,neural_data['name'][2],color=[0.9922, 0.7529, 0.5255])\n",
    "\n",
    "        # ax.legend(frameon=False, bbox_to_anchor=(-0.2, 0.57, 0.5, 0.5))\n",
    "            \n",
    "    ax.set_xlim([0-0.5,len(x_pos)-1])\n",
    "    ax.set_yticks(y_pos)\n",
    "    ax.set_ylim((-1, 1))\n",
    "    ax.spines['top'].set_visible(False)\n",
    "    ax.spines['right'].set_visible(False)\n",
    "\n",
    "    ax.set_title(model_names[i],pad = 0,\n",
    "                    fontdict = {'fontsize': 8,\n",
    "                        'fontweight': 'bold',\n",
    "                        'color': [0,0,0],\n",
    "                        'verticalalignment': 'center',\n",
    "                        'horizontalalignment': 'center'})\n",
    "    ax.hlines(y=0, xmin=x_pos[0]-0.5, xmax=x_pos[-1], color=[0.7,0.7,0.7],ls='--',lw=0.5)\n",
    "\n",
    "    # font and tick params\n",
    "    plt.tick_params(length = 1, width = 0.8)\n",
    "    mpl.rcParams['font.family'] = 'Arial'\n",
    "    plt.rcParams['font.size'] = 6\n",
    "    plt.rcParams['axes.linewidth'] = 0.8\n",
    "\n",
    "plt.tight_layout()\n",
    "plt.savefig(figname+'.pdf',dpi=300,bbox_inches='tight',facecolor='w',pad_inches=0)\n",
    "plt.show()"
   ]
  },
  {
   "cell_type": "code",
   "execution_count": null,
   "metadata": {},
   "outputs": [],
   "source": []
  }
 ],
 "metadata": {
  "kernelspec": {
   "display_name": "EIG-faces",
   "language": "python",
   "name": "python3"
  },
  "language_info": {
   "codemirror_mode": {
    "name": "ipython",
    "version": 3
   },
   "file_extension": ".py",
   "mimetype": "text/x-python",
   "name": "python",
   "nbconvert_exporter": "python",
   "pygments_lexer": "ipython3",
   "version": "3.8.5"
  },
  "orig_nbformat": 4
 },
 "nbformat": 4,
 "nbformat_minor": 2
}
