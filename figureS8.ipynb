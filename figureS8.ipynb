{
 "cells": [
  {
   "cell_type": "code",
   "execution_count": null,
   "metadata": {},
   "outputs": [],
   "source": [
    "# figure S8: function for measuring symmetry plane\n",
    "# useful packages:\n",
    "import numpy as np\n",
    "import matplotlib as mpl\n",
    "import matplotlib.pyplot as plt\n",
    "import scipy\n",
    "import scipy.io as sio\n",
    "from scipy.stats import pearsonr\n",
    "import warnings\n",
    "warnings.filterwarnings(\"ignore\")\n",
    "import matplotlib.gridspec as gridspec\n",
    "import torchlens as tl\n",
    "%matplotlib inline\n",
    "import matplotlib.patheffects as pe"
   ]
  },
  {
   "cell_type": "code",
   "execution_count": null,
   "metadata": {},
   "outputs": [],
   "source": [
    "# settings\n",
    "num_imgs = 2025\n",
    "ncatg = 9\n",
    "nview = 9\n",
    "nexemplar = 25\n",
    "catg_names = ['car','boat','face','chair','airplane','tool','animal','fruit','flower']\n",
    "\n",
    "# line colors\n",
    "cmap = np.divide([[166,206,227],\n",
    "        [31,120,180],\n",
    "        [178,223,138],\n",
    "        [51,160,44],\n",
    "        [253,191,111],\n",
    "        [255,127,0],\n",
    "        [202,178,214],\n",
    "        [251,154,153],\n",
    "        [227,26,2]],255)\n",
    "\n",
    "figname = 'figureS8'"
   ]
  },
  {
   "cell_type": "code",
   "execution_count": null,
   "metadata": {},
   "outputs": [],
   "source": [
    "# our stimulus set\n",
    "imgs_mat = scipy.io.loadmat('imgs.mat')\n",
    "imgs = list(imgs_mat.values())\n",
    "imgs = imgs[3].T\n",
    "imgs.shape"
   ]
  },
  {
   "cell_type": "code",
   "execution_count": null,
   "metadata": {},
   "outputs": [],
   "source": [
    "# Function to compute **horizontal** symmetry score for a given x-coordinate\n",
    "def compute_symmetry_score(img, y):\n",
    "    img = np.pad(img,((0, 0), (img.shape[0]//2, img.shape[0]//2)),mode='edge')\n",
    "    left = img[:, y-img.shape[0]//2:y]\n",
    "    right = np.fliplr(img[:, y:y+img.shape[0]//2])\n",
    "    corr, _ = pearsonr(left.flatten(),right.flatten())\n",
    "    return corr"
   ]
  },
  {
   "cell_type": "code",
   "execution_count": null,
   "metadata": {},
   "outputs": [],
   "source": [
    "# measure symmetry reflection plane\n",
    "best_score = np.empty((ncatg,nexemplar,nview))\n",
    "best_score_idx = np.empty((ncatg,nexemplar,nview))\n",
    "for i_catg in range(0,ncatg):\n",
    "    for i_exemplar in range(0,nexemplar):\n",
    "        idx = np.arange(i_exemplar, (nview * nexemplar), nexemplar)\n",
    "        score = []\n",
    "        for i_view in range(0,len(idx)):\n",
    "            image = imgs[i_catg][idx[i_view]]\n",
    "            # Compute symmetry scores for all possible x or y-coordinates\n",
    "            score = [compute_symmetry_score(image,y) for y in range(len(image) // 2,len(image) + (len(image) // 2))] \n",
    "            best_score_idx[i_catg,i_exemplar,i_view] = np.nanargmax(score)\n",
    "            best_score[i_catg,i_exemplar,i_view]  = np.nanmax(score)\n",
    "        print(f'category {i_catg+1}, exemplar {i_exemplar}')"
   ]
  },
  {
   "cell_type": "code",
   "execution_count": null,
   "metadata": {},
   "outputs": [],
   "source": [
    "# remove inf values\n",
    "best_score[np.isinf(best_score)] = np.nan\n",
    "best_mscore = np.nanmean(best_score,1)"
   ]
  },
  {
   "cell_type": "code",
   "execution_count": null,
   "metadata": {},
   "outputs": [],
   "source": [
    "catg_mean = np.mean(best_mscore,1)\n",
    "catg_std = np.std(best_score,1)"
   ]
  },
  {
   "cell_type": "code",
   "execution_count": null,
   "metadata": {},
   "outputs": [],
   "source": [
    "# threshold for selecting symmetry plane\n",
    "i_catg = 8\n",
    "best_mscore[i_catg] > catg_mean[i_catg] + 0.5*catg_std[i_catg]"
   ]
  },
  {
   "cell_type": "code",
   "execution_count": null,
   "metadata": {},
   "outputs": [],
   "source": [
    "# plot the figure\n",
    "fig = plt.figure(figsize=(4,4))\n",
    "ncols = 3\n",
    "nrows = 3\n",
    "gs = gridspec.GridSpec(nrows, ncols, left=0.02, bottom=0.02, right=0.98, top=0.98, wspace=0.15, hspace=-.4)\n",
    "\n",
    "angles = np.linspace(0, np.pi, nview)  # This will give values for each degree\n",
    "for i, ax_ in enumerate(gs):\n",
    "    ax = fig.add_subplot(ax_,projection='polar',zorder=2)\n",
    "\n",
    "    ax.plot(angles, best_score[i].T,markerfacecolor=cmap[i],color=cmap[i], marker='o',linewidth=0.75,markersize=3, alpha=0.6, markeredgecolor='w',markeredgewidth=0.1,zorder=1)\n",
    "    ax.plot(angles, best_mscore[i],linewidth=1.5,color=cmap[i],path_effects=[pe.Stroke(linewidth=2, foreground='k'), pe.Normal()],zorder=3)\n",
    "\n",
    "    ax.set_thetamin(0)\n",
    "    ax.set_thetamax(180)\n",
    "    ax.set_yticks([0.25, 0.5, 0.75, 1])  # Less radial ticks\n",
    "    ax.set_rmax(1)\n",
    "    ax.set_rmin(0)\n",
    "    ax.set_xticks(np.deg2rad([0, 22.5, 45, 67.5, 90, 112.5, 135, 157.5, 180]))\n",
    "    ax.set_title(catg_names[i],pad = -10,\n",
    "                      fontdict = {'fontsize': 8,\n",
    "                         'fontweight': 'bold',\n",
    "                         'color': [0,0,0],\n",
    "                         'verticalalignment': 'center',\n",
    "                         'horizontalalignment': 'center'})\n",
    "    \n",
    "    ax.tick_params(labelsize=6)\n",
    "\n",
    "    if i != 0:\n",
    "        ax.set_xticklabels([])\n",
    "        ax.set_yticklabels([])\n",
    "    else:\n",
    "        ax.set_xticklabels([90, 67.5, 45, 22.5, 0, -22.5, -45, -67.5, -90])\n",
    "        # adjust the gap between axes and xticklabels\n",
    "        for label in ax.get_xticklabels():\n",
    "            label.set_horizontalalignment('center')\n",
    "            label.set_verticalalignment('center')\n",
    "            label.set_position((0,0.19))\n",
    "\n",
    "    locs = ax.get_yticks()\n",
    "    rlabels = [f'{loc:g}' for loc in ([0.25, 0.5, 0.75, 1])]\n",
    "    rlabels[0] = ''\n",
    "    rlabels[2] = ''\n",
    "    ax.set_yticklabels(rlabels)\n",
    "\n",
    "# font and tick params\n",
    "plt.tick_params(length = 1, width = 0.8)\n",
    "mpl.rcParams['font.family'] = 'Arial'\n",
    "plt.rcParams['font.size'] = 6\n",
    "plt.rcParams['axes.linewidth'] = 0.8\n",
    "\n",
    "plt.tight_layout()\n",
    "plt.show()"
   ]
  },
  {
   "cell_type": "code",
   "execution_count": null,
   "metadata": {},
   "outputs": [],
   "source": []
  }
 ],
 "metadata": {
  "kernelspec": {
   "display_name": "base",
   "language": "python",
   "name": "python3"
  },
  "language_info": {
   "codemirror_mode": {
    "name": "ipython",
    "version": 3
   },
   "file_extension": ".py",
   "mimetype": "text/x-python",
   "name": "python",
   "nbconvert_exporter": "python",
   "pygments_lexer": "ipython3",
   "version": "3.8.5"
  },
  "orig_nbformat": 4
 },
 "nbformat": 4,
 "nbformat_minor": 2
}
